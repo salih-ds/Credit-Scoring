{
 "cells": [
  {
   "cell_type": "markdown",
   "metadata": {},
   "source": [
    "# Setup"
   ]
  },
  {
   "cell_type": "code",
   "execution_count": null,
   "metadata": {},
   "outputs": [],
   "source": [
    "import sys\n",
    "import numpy as np\n",
    "import pandas as pd\n",
    "import datetime\n",
    "from math import log as log\n",
    "import matplotlib.pyplot as plt\n",
    "import seaborn as sns \n",
    "%matplotlib inline\n",
    "\n",
    "from sklearn.preprocessing import LabelEncoder, OneHotEncoder\n",
    "from sklearn.model_selection import train_test_split\n",
    "from sklearn.linear_model import LogisticRegression\n",
    "from sklearn.neighbors import KNeighborsClassifier\n",
    "from sklearn.neural_network import MLPClassifier\n",
    "from xgboost import XGBClassifier\n",
    "import joblib"
   ]
  },
  {
   "cell_type": "code",
   "execution_count": null,
   "metadata": {},
   "outputs": [],
   "source": [
    "RANDOM_SEED = 11"
   ]
  },
  {
   "cell_type": "code",
   "execution_count": null,
   "metadata": {},
   "outputs": [],
   "source": [
    "sys.path.append('/Users/rus/Desktop/Credit-Scoring/modules')\n",
    "\n",
    "# вывести информацию о полях и размерности датасета\n",
    "from DataAnalysis import primary_info_about_data\n",
    "# построить боксплоты для столбцов датафрейма\n",
    "from DataAnalysis import boxplot_create\n",
    "\n",
    "# сгенерировать признаки для датафрейма, вернуть полный датафрейм с новыми признаками\n",
    "from FeatureEngineering import feature_eng\n",
    "\n",
    "# F-test\n",
    "from FTest import f_num, f_cat\n",
    "\n",
    "# Построить график roc auc, Построить график матрицы корреляции\n",
    "from Metrics import roc_auc_create, confusion_matrix_create\n",
    "# Рассчитать метрики качества классификатора\n",
    "from Metrics import model_metrics\n",
    "\n",
    "# Протестировать модели с базовыми параметрами, вывести метрики для каждой\n",
    "from Models import test_base_models\n",
    "# Подбор гиперпараметров и сохранение модели с лучшим показателем\n",
    "from Models import tune_model\n",
    "# Формирование файла с вероятностью дефолта\n",
    "from Models import sub_create"
   ]
  },
  {
   "cell_type": "markdown",
   "metadata": {},
   "source": [
    "# Данные"
   ]
  },
  {
   "cell_type": "code",
   "execution_count": null,
   "metadata": {},
   "outputs": [],
   "source": [
    "# путь к файлам\n",
    "path = 'data'"
   ]
  },
  {
   "cell_type": "code",
   "execution_count": null,
   "metadata": {},
   "outputs": [],
   "source": [
    "train = pd.read_csv(path +'/train.csv')\n",
    "test = pd.read_csv(path +'/test.csv')\n",
    "sample = pd.read_csv(path +'/sample_submission.csv')"
   ]
  },
  {
   "cell_type": "markdown",
   "metadata": {},
   "source": [
    "### Рассмотрим данные"
   ]
  },
  {
   "cell_type": "markdown",
   "metadata": {},
   "source": [
    "#### train"
   ]
  },
  {
   "cell_type": "code",
   "execution_count": null,
   "metadata": {},
   "outputs": [],
   "source": [
    "primary_info_about_data(train)\n",
    "train.head()"
   ]
  },
  {
   "cell_type": "markdown",
   "metadata": {},
   "source": [
    "#### test"
   ]
  },
  {
   "cell_type": "code",
   "execution_count": null,
   "metadata": {},
   "outputs": [],
   "source": [
    "primary_info_about_data(test)\n",
    "test.head()"
   ]
  },
  {
   "cell_type": "markdown",
   "metadata": {},
   "source": [
    "#### sample"
   ]
  },
  {
   "cell_type": "code",
   "execution_count": null,
   "metadata": {},
   "outputs": [],
   "source": [
    "primary_info_about_data(sample)\n",
    "sample.head()"
   ]
  },
  {
   "cell_type": "markdown",
   "metadata": {},
   "source": [
    "#### Распределение целевого признака"
   ]
  },
  {
   "cell_type": "code",
   "execution_count": null,
   "metadata": {},
   "outputs": [],
   "source": [
    "plot = sns.countplot(x=train['default'])"
   ]
  },
  {
   "cell_type": "markdown",
   "metadata": {},
   "source": [
    "### Объединим train и test"
   ]
  },
  {
   "cell_type": "code",
   "execution_count": null,
   "metadata": {},
   "outputs": [],
   "source": [
    "train['sample'] = 1\n",
    "test['sample'] = 0\n",
    "test['default'] = -1  # временное значение\n",
    "data = train.append(test, sort=False).reset_index(drop=True)"
   ]
  },
  {
   "cell_type": "code",
   "execution_count": null,
   "metadata": {},
   "outputs": [],
   "source": [
    "primary_info_about_data(data)"
   ]
  },
  {
   "cell_type": "markdown",
   "metadata": {},
   "source": [
    "<h2>Описания полей</h2>\n",
    "<ul>\n",
    "<li><p><code>client_id</code> - идентификатор клиента</p></li>\n",
    "<li><p><code>education</code> - уровень образования</p></li>\n",
    "<li><p><code>sex</code> - пол заемщика</p></li>\n",
    "<li><p><code>age</code> - возраст заемщика</p></li>\n",
    "<li><p><code>car</code> - флаг наличия автомобиля</p></li>\n",
    "<li><p><code>car_type</code> - флаг автомобиля иномарки</p></li>\n",
    "<li><p><code>decline_app_cnt</code> - количество отказанных прошлых заявок</p></li>\n",
    "<li><p><code>good_work</code> - флаг наличия “хорошей” работы</p></li>\n",
    "<li><p><code>bki_request_cnt</code> - количество запросов в БКИ</p></li>\n",
    "<li><p><code>home_address</code> - категоризатор домашнего адреса</p></li>\n",
    "<li><p><code>work_address</code> -  категоризатор рабочего адреса</p></li>\n",
    "<li><p><code>income</code> - доход заемщика</p></li>\n",
    "<li><p><code>foreign_passport</code> - наличие загранпаспорта</p></li>\n",
    "<li><p><code>sna</code> - связь заемщика с клиентами банка</p></li>\n",
    "<li><p><code>first_time</code> - давность наличия информации о заемщике</p></li>\n",
    "<li><p><code>score_bki</code> - скоринговый балл по данным из БКИ</p></li>\n",
    "<li><p><code>region_rating</code> - рейтинг региона</p></li>\n",
    "<li><p><code>app_date</code> - дата подачи заявки</p></li>\n",
    "<li><p><code>default</code> - флаг дефолта по кредиту </p></li>\n",
    "</ul></div>"
   ]
  },
  {
   "cell_type": "markdown",
   "metadata": {},
   "source": [
    "# Разведочный анализ (EDA)"
   ]
  },
  {
   "cell_type": "code",
   "execution_count": null,
   "metadata": {},
   "outputs": [],
   "source": [
    "# разделяю по типам признаков для предобработки\n",
    "num_cols = ['age','decline_app_cnt','score_bki','income','bki_request_cnt','region_rating'] \n",
    "cat_cols = ['education','work_address','home_address','sna','first_time'] \n",
    "bin_cols = ['sex','car','car_type','good_work','foreign_passport'] "
   ]
  },
  {
   "cell_type": "markdown",
   "metadata": {},
   "source": [
    "## Числовые признаки"
   ]
  },
  {
   "cell_type": "code",
   "execution_count": null,
   "metadata": {},
   "outputs": [],
   "source": [
    "# рассмотрим числовые значения\n",
    "fig, axes = plt.subplots(2, 3, figsize=(25,15))\n",
    "\n",
    "for i,col in enumerate(num_cols):\n",
    "    sns.histplot(data[col], kde=False, ax=axes.flat[i], color=\"r\")"
   ]
  },
  {
   "cell_type": "markdown",
   "metadata": {},
   "source": [
    "- чаще заемщиками являются клиенты 25-35\n",
    "- большинство не имеет отказных заявок, но есть небольшое число клиентов с высоким количеством отказов, отказы смещены влево\n",
    "\n",
    "Определить характеристику клиентов с высокой отказностью\n",
    "\n",
    "- оценка bki распределена нормально\n",
    "- доход смещен влево, есть выбросы с крайне высоким уровнем дохода\n",
    "\n",
    "Есть ли те, кто не имеет \"хорошую\" работу, но имеет доход выше среднего?\n",
    "\n",
    "- половина клиентов имеет 0 или 1 запрос в БКИ, данные смещены влево\n",
    "- крайне мало клиентов из регионов с рейтиного 30 и ниже"
   ]
  },
  {
   "cell_type": "markdown",
   "metadata": {},
   "source": [
    "### Логорифмируем смещенные признаки для нормального распределения"
   ]
  },
  {
   "cell_type": "code",
   "execution_count": null,
   "metadata": {},
   "outputs": [],
   "source": [
    "fig, axes = plt.subplots(1, 3, figsize=(10,7))\n",
    "for i,col in enumerate(['decline_app_cnt', 'bki_request_cnt', 'income']):\n",
    "    data[col] = np.log(data[col] + 1)\n",
    "    sns.histplot(data[col][data[col] > 0].dropna(), ax=axes.flat[i],kde = False, color=\"r\")    "
   ]
  },
  {
   "cell_type": "markdown",
   "metadata": {},
   "source": [
    "### Построим боксплоты для числовых признаков"
   ]
  },
  {
   "cell_type": "code",
   "execution_count": null,
   "metadata": {},
   "outputs": [],
   "source": [
    "for col in num_cols:\n",
    "    boxplot_create(data, col)"
   ]
  },
  {
   "cell_type": "markdown",
   "metadata": {},
   "source": [
    "- Молодые более склонны к совершению дефолта\n",
    "- Дефолт совершают люди, которые имеют более высокое значение скоринговой оценки\n",
    "- Платежеспособные люди живут, как правило, в регионах с более высоким рейтингом\n",
    "- У совершающих дефолт доход чуть ниже\n",
    "- Количество запросов в БКИ, обычно, выше у совершающих дефолт"
   ]
  },
  {
   "cell_type": "markdown",
   "metadata": {},
   "source": [
    "## Категориальные признаки"
   ]
  },
  {
   "cell_type": "markdown",
   "metadata": {},
   "source": [
    "### Образование"
   ]
  },
  {
   "cell_type": "code",
   "execution_count": null,
   "metadata": {},
   "outputs": [],
   "source": [
    "data.education.value_counts().plot(kind=\"bar\",figsize=(8,6),color=\"r\")\n",
    "print(\"Missing education values:\\n\",data.education.isna().sum())"
   ]
  },
  {
   "cell_type": "code",
   "execution_count": null,
   "metadata": {},
   "outputs": [],
   "source": [
    "data.education = data.education.fillna(\"SCH\") # заменим пустые значения на самое популярное"
   ]
  },
  {
   "cell_type": "markdown",
   "metadata": {},
   "source": [
    "Смотрим зависимость дохода от уровня образования"
   ]
  },
  {
   "cell_type": "code",
   "execution_count": null,
   "metadata": {},
   "outputs": [],
   "source": [
    "plt.figure(figsize=(15, 8))\n",
    "sns.boxplot(x=\"education\", y=\"income\", data=data, showfliers=False)"
   ]
  },
  {
   "cell_type": "markdown",
   "metadata": {},
   "source": [
    "Люди с более высоким образованием имеют, как правило, более высокий доход"
   ]
  },
  {
   "cell_type": "markdown",
   "metadata": {},
   "source": [
    "## Построим корреляционную матрицу"
   ]
  },
  {
   "cell_type": "code",
   "execution_count": null,
   "metadata": {},
   "outputs": [],
   "source": [
    "plt.rcParams['figure.figsize'] = (15,10)\n",
    "sns.heatmap(data[data['sample'] == 1].corr(), vmin=0, vmax=1, annot = True)"
   ]
  },
  {
   "cell_type": "markdown",
   "metadata": {},
   "source": [
    "- Признаки \"домашний\" и \"рабочий\" адресы имеют высокую зависимость - большинство выбирает работу рядом с домом\n",
    "- bki score, количество отказанных прошлых заявок и sna имеют наибольшую корреляцию с целевым признаком"
   ]
  },
  {
   "cell_type": "markdown",
   "metadata": {},
   "source": [
    "# Feature engineering"
   ]
  },
  {
   "cell_type": "code",
   "execution_count": null,
   "metadata": {},
   "outputs": [],
   "source": [
    "# сгенерируем признаки\n",
    "df = feature_eng(data)"
   ]
  },
  {
   "cell_type": "markdown",
   "metadata": {
    "scrolled": true
   },
   "source": [
    "## Новые признаки:\n",
    "- app_date - Сколько дней прошло с 1-го запроса\n",
    "- home_work - Дом далеко от работы\n",
    "- bki/decline - Количество отказных заявок/Количество запросов\n",
    "- age_category - Категории возрастов\n",
    "- mean_income_age_cat - средний доход на категорию возраста (временный признак)\n",
    "- inc_large_mean - Доход больше среднего по категории возраста\n",
    "- normalized_income_minus_mean - Нормализованный доход по категории возраста\n",
    "- mean_requests_age - среднее число обращений в БКИ на категорию возраста (временный признак)\n",
    "- bki_request_cnt - Больше среднего обращений в БКИ по категории возраста\n",
    "- mean_income_region - средний доход по региону (временный признак)\n",
    "- inc_large_mean_region - Доход больше среднего по региону\n",
    "- active_no_decline - Без отказов от банков, но имеет обращения в БКИ\n",
    "- no_decline_request - Не имеет запросов в БКИ и не имеет отказов\n",
    "- no_good_job_and_good_income - Имеет доход выше среднего, но не имеет пометку \"хорошая\" работа (бизнес?)\n",
    "- income_per_score_bki - Доход/Скоринг оценку"
   ]
  },
  {
   "cell_type": "markdown",
   "metadata": {},
   "source": [
    "## Кодирование бинарных и категориальных признаков признаков"
   ]
  },
  {
   "cell_type": "code",
   "execution_count": null,
   "metadata": {},
   "outputs": [],
   "source": [
    "cat_cols = ['education','work_address','home_address','sna','first_time', 'age_category'] "
   ]
  },
  {
   "cell_type": "code",
   "execution_count": null,
   "metadata": {},
   "outputs": [],
   "source": [
    "# перекодируем текстовые значения в бинарных признаках на числовые\n",
    "labels = {}\n",
    "label_encoder = LabelEncoder()\n",
    "for col in bin_cols+cat_cols:\n",
    "    # перекодировка\n",
    "    df[col] = label_encoder.fit_transform(df[col])\n",
    "    # сохраняем значения перекодировки в словаре\n",
    "    labels[col] = dict(enumerate(label_encoder.classes_))"
   ]
  },
  {
   "cell_type": "code",
   "execution_count": null,
   "metadata": {},
   "outputs": [],
   "source": [
    "# Словарь категориальных и бинарных признаков\n",
    "print(labels)"
   ]
  },
  {
   "cell_type": "code",
   "execution_count": null,
   "metadata": {},
   "outputs": [],
   "source": [
    "# обновляем списки признаков по типу\n",
    "num_cols = ['age','decline_app_cnt','score_bki','income','bki_request_cnt','app_date', 'region_rating',\n",
    "            'bki/decline', 'normalized_income_minus_mean',\n",
    "           'income_per_score_bki'] # numerical\n",
    "cat_cols = ['education','work_address','home_address','sna','first_time', 'age_category'] # categorical\n",
    "bin_cols = ['sex','car','car_type','good_work','foreign_passport','home_work', 'inc_large_mean',\n",
    "           'request_large_mean', 'inc_large_mean_region', 'active_no_decline', 'no_decline_request',\n",
    "           'no_good_job_and_good_income', ] # binary"
   ]
  },
  {
   "cell_type": "markdown",
   "metadata": {},
   "source": [
    "## Обработка выбросов"
   ]
  },
  {
   "cell_type": "code",
   "execution_count": null,
   "metadata": {},
   "outputs": [],
   "source": [
    "# построим боксплоты\n",
    "for col in num_cols:\n",
    "    boxplot_create(df, col)"
   ]
  },
  {
   "cell_type": "code",
   "execution_count": null,
   "metadata": {},
   "outputs": [],
   "source": [
    "# приведем к положительному значению\n",
    "df['score_bki'] = abs(df['score_bki'])"
   ]
  },
  {
   "cell_type": "code",
   "execution_count": null,
   "metadata": {},
   "outputs": [],
   "source": [
    "# логарифмируем числовые признаки\n",
    "for i in num_cols:\n",
    "     df[i] = np.log(df[i])\n",
    "     df[i].replace([np.inf, -np.inf], 0, inplace=True)"
   ]
  },
  {
   "cell_type": "markdown",
   "metadata": {},
   "source": [
    "## F-test"
   ]
  },
  {
   "cell_type": "markdown",
   "metadata": {},
   "source": [
    "оцениваю разделяющую способность признака к целевой переменной"
   ]
  },
  {
   "cell_type": "code",
   "execution_count": null,
   "metadata": {},
   "outputs": [],
   "source": [
    "# тренировочная выборка\n",
    "data_temp = df.loc[df['sample'] == 1] "
   ]
  },
  {
   "cell_type": "markdown",
   "metadata": {},
   "source": [
    "### Числовые признаки"
   ]
  },
  {
   "cell_type": "code",
   "execution_count": null,
   "metadata": {},
   "outputs": [],
   "source": [
    "f_num(data_temp, num_cols)"
   ]
  },
  {
   "cell_type": "markdown",
   "metadata": {},
   "source": [
    "### Категориальные и бинарные признаки"
   ]
  },
  {
   "cell_type": "code",
   "execution_count": null,
   "metadata": {},
   "outputs": [],
   "source": [
    "f_cat(data_temp, bin_cols+cat_cols)"
   ]
  },
  {
   "cell_type": "markdown",
   "metadata": {},
   "source": [
    "## Собираю готовый dataframe"
   ]
  },
  {
   "cell_type": "code",
   "execution_count": null,
   "metadata": {},
   "outputs": [],
   "source": [
    "df = pd.get_dummies(df, prefix=cat_cols, columns=cat_cols) # dummy-переменные"
   ]
  },
  {
   "cell_type": "markdown",
   "metadata": {},
   "source": [
    "# Обучим модель"
   ]
  },
  {
   "cell_type": "markdown",
   "metadata": {},
   "source": [
    "## Baseline"
   ]
  },
  {
   "cell_type": "code",
   "execution_count": null,
   "metadata": {},
   "outputs": [],
   "source": [
    "# разделяю на тренировочную и тестовую выборки\n",
    "train_df = df.query('sample == 1').drop(['sample','client_id'], axis=1)\n",
    "test_df = df.query('sample == 0').drop(['sample','client_id'], axis=1)"
   ]
  },
  {
   "cell_type": "code",
   "execution_count": null,
   "metadata": {},
   "outputs": [],
   "source": [
    "X = train_df.drop(['default'], axis=1).values\n",
    "y = train_df['default'].values # целевой признак"
   ]
  },
  {
   "cell_type": "code",
   "execution_count": null,
   "metadata": {},
   "outputs": [],
   "source": [
    "# разделяю выборку на тренировочную и валидационную\n",
    "X_train, X_valid, y_train, y_valid = train_test_split(X, y, test_size=0.20, random_state=RANDOM_SEED)"
   ]
  },
  {
   "cell_type": "code",
   "execution_count": null,
   "metadata": {},
   "outputs": [],
   "source": [
    "lr = LogisticRegression(max_iter = 1000)"
   ]
  },
  {
   "cell_type": "code",
   "execution_count": null,
   "metadata": {},
   "outputs": [],
   "source": [
    "lr.fit(X_train, y_train)\n",
    "y_pred = lr.predict(X_valid)\n",
    "probs = lr.predict_proba(X_valid)"
   ]
  },
  {
   "cell_type": "markdown",
   "metadata": {},
   "source": [
    "### ROC AUC"
   ]
  },
  {
   "cell_type": "code",
   "execution_count": null,
   "metadata": {},
   "outputs": [],
   "source": [
    "# построим график roc auc\n",
    "roc_auc_create(probs, y_valid)"
   ]
  },
  {
   "cell_type": "code",
   "execution_count": null,
   "metadata": {},
   "outputs": [],
   "source": [
    "# рассчитаем метрики для модели\n",
    "model_metrics(y_valid,y_pred)"
   ]
  },
  {
   "cell_type": "markdown",
   "metadata": {},
   "source": [
    "Модель имеет низкие показатели"
   ]
  },
  {
   "cell_type": "markdown",
   "metadata": {},
   "source": [
    "### Confusion matrix"
   ]
  },
  {
   "cell_type": "code",
   "execution_count": null,
   "metadata": {},
   "outputs": [],
   "source": [
    "# построим матрицу корреляций\n",
    "confusion_matrix_create(y_valid, y_pred)"
   ]
  },
  {
   "cell_type": "markdown",
   "metadata": {},
   "source": [
    "Модель предсказывает, что практически все не дефолтные"
   ]
  },
  {
   "cell_type": "markdown",
   "metadata": {},
   "source": [
    "## Разделим данные"
   ]
  },
  {
   "cell_type": "code",
   "execution_count": null,
   "metadata": {},
   "outputs": [],
   "source": [
    "data = df.copy()"
   ]
  },
  {
   "cell_type": "code",
   "execution_count": null,
   "metadata": {},
   "outputs": [],
   "source": [
    "# размеченные данные\n",
    "train_data = data.query('sample == 1').drop(['sample','client_id'], axis=1)\n",
    "# данные для предикта\n",
    "test_data = data.query('sample == 0').drop(['sample','client_id'], axis=1)\n",
    "\n",
    "X_train = train_data.drop(['default'], axis=1)\n",
    "y_train = train_data.default.values\n",
    "X_test = test_data.drop(['default'], axis=1)"
   ]
  },
  {
   "cell_type": "code",
   "execution_count": null,
   "metadata": {},
   "outputs": [],
   "source": [
    "X_train_1, X_test_1, y_train_1, y_test_1 = train_test_split(X_train, y_train, test_size=0.2, shuffle=True, random_state=RANDOM_SEED)"
   ]
  },
  {
   "cell_type": "markdown",
   "metadata": {},
   "source": [
    "## Протестируем алгоритмы с дефолтными параметрами"
   ]
  },
  {
   "cell_type": "code",
   "execution_count": null,
   "metadata": {},
   "outputs": [],
   "source": [
    "test_base_models(X_train_1, y_train_1, X_test_1, y_test_1, RANDOM_SEED)"
   ]
  },
  {
   "cell_type": "markdown",
   "metadata": {},
   "source": [
    "#### SVC\n",
    "\n",
    "Всех обозначил не дефолтными\n",
    "\n",
    "- precision_score: 0.0\n",
    "- recall_score: 0.0\n",
    "- f1_score: 0.0"
   ]
  },
  {
   "cell_type": "markdown",
   "metadata": {},
   "source": [
    "#### KNeighborsClassifier\n",
    "- precision_score: 0.27176220806794055\n",
    "- recall_score: 0.06863270777479893\n",
    "- f1_score: 0.10958904109589042"
   ]
  },
  {
   "cell_type": "markdown",
   "metadata": {},
   "source": [
    "#### MLPClassifier\n",
    "- precision_score: 0.32840236686390534\n",
    "- recall_score: 0.05951742627345844\n",
    "- f1_score: 0.10077167498865182"
   ]
  },
  {
   "cell_type": "markdown",
   "metadata": {},
   "source": [
    "#### XGBClassifier\n",
    "- precision_score: 0.3561643835616438\n",
    "- recall_score: 0.0418230563002681\n",
    "- f1_score: 0.07485604606525913"
   ]
  },
  {
   "cell_type": "markdown",
   "metadata": {},
   "source": [
    "## Подберем параметры и сделаем предсказание"
   ]
  },
  {
   "cell_type": "markdown",
   "metadata": {},
   "source": [
    "### XGBClassifier"
   ]
  },
  {
   "cell_type": "code",
   "execution_count": null,
   "metadata": {},
   "outputs": [],
   "source": [
    "# параметры для перебора\n",
    "params = {\n",
    "        'learning_rate' : [0.05, 0.1, 0.2,],\n",
    "        'n_estimators' : [150, 200, 250],\n",
    "        'min_child_weight': [4, 5, 6],\n",
    "        'gamma': [0.3, 0.5, 0.8],\n",
    "        'subsample': [0.9, 1.0, 1.2],\n",
    "        'colsample_bytree': [0.5, 0.6, 0.7],\n",
    "        'max_depth': [4, 5, 6]\n",
    "        }"
   ]
  },
  {
   "cell_type": "code",
   "execution_count": null,
   "metadata": {},
   "outputs": [],
   "source": [
    "# инициализируем модель\n",
    "model = XGBClassifier()\n",
    "name = 'xgb'"
   ]
  },
  {
   "cell_type": "code",
   "execution_count": null,
   "metadata": {},
   "outputs": [],
   "source": [
    "# подберем параметры и сохраним лучшую модель\n",
    "tune_model(model, params, X_train, y_train, RANDOM_SEED, name)"
   ]
  },
  {
   "cell_type": "code",
   "execution_count": null,
   "metadata": {},
   "outputs": [],
   "source": [
    "# сделаем предсказание\n",
    "sub_create('save_models/xgb_model.pkl', X_test, test, name)"
   ]
  },
  {
   "cell_type": "markdown",
   "metadata": {},
   "source": [
    "Sub_result: 0.74268"
   ]
  },
  {
   "cell_type": "markdown",
   "metadata": {},
   "source": [
    "### KNeighborsClassifier"
   ]
  },
  {
   "cell_type": "code",
   "execution_count": null,
   "metadata": {},
   "outputs": [],
   "source": [
    "# параметры для перебора\n",
    "params = {    \n",
    "        'n_neighbors': list(range(2, 11, 2)),\n",
    "        'leaf_size': list(range(20, 41, 3)),\n",
    "        'p': [1,2],\n",
    "        'weights': ['uniform', 'distance'],\n",
    "        'metric': ['minkowski', 'chebyshev'],\n",
    "        }"
   ]
  },
  {
   "cell_type": "code",
   "execution_count": null,
   "metadata": {},
   "outputs": [],
   "source": [
    "# инициализируем модель\n",
    "model = KNeighborsClassifier()\n",
    "name = 'knn'"
   ]
  },
  {
   "cell_type": "code",
   "execution_count": null,
   "metadata": {},
   "outputs": [],
   "source": [
    "tune_model(model, params, X_train, y_train, RANDOM_SEED, name)"
   ]
  },
  {
   "cell_type": "code",
   "execution_count": null,
   "metadata": {},
   "outputs": [],
   "source": [
    "# сделаем предсказание\n",
    "sub_create('save_models/knn_model.pkl', X_test, test, name)"
   ]
  },
  {
   "cell_type": "markdown",
   "metadata": {},
   "source": [
    "Sub_result: 0.62991"
   ]
  },
  {
   "cell_type": "markdown",
   "metadata": {},
   "source": [
    "### MLPClassifier"
   ]
  },
  {
   "cell_type": "code",
   "execution_count": null,
   "metadata": {},
   "outputs": [],
   "source": [
    "# параметры для перебора\n",
    "params = {    \n",
    "        'hidden_layer_sizes': [(50,50,50), (50,100,50), (100,)],\n",
    "        'activation': ['tanh', 'relu'],\n",
    "        'solver': ['sgd', 'adam'],\n",
    "        'alpha': [0.0001, 0.05],\n",
    "        'learning_rate': ['constant','adaptive'],\n",
    "        }"
   ]
  },
  {
   "cell_type": "code",
   "execution_count": null,
   "metadata": {},
   "outputs": [],
   "source": [
    "# инициализируем модель\n",
    "model = MLPClassifier(random_state=RANDOM_SEED)\n",
    "name = 'mlp'"
   ]
  },
  {
   "cell_type": "code",
   "execution_count": null,
   "metadata": {},
   "outputs": [],
   "source": [
    "# подберем параметры и сохраним лучшую модель\n",
    "tune_model(model, params, X_train, y_train, RANDOM_SEED, name)"
   ]
  },
  {
   "cell_type": "code",
   "execution_count": null,
   "metadata": {},
   "outputs": [],
   "source": [
    "# сделаем предсказание\n",
    "sub_create('save_models/mlp_model.pkl', X_test, test, name)"
   ]
  },
  {
   "cell_type": "markdown",
   "metadata": {},
   "source": [
    "Sub_result: 0.73829"
   ]
  },
  {
   "cell_type": "markdown",
   "metadata": {},
   "source": [
    "**Лучший результат на тестовой выборке показал xgb классификатор**"
   ]
  }
 ],
 "metadata": {
  "kernelspec": {
   "display_name": "Python 3",
   "language": "python",
   "name": "python3"
  },
  "language_info": {
   "codemirror_mode": {
    "name": "ipython",
    "version": 3
   },
   "file_extension": ".py",
   "mimetype": "text/x-python",
   "name": "python",
   "nbconvert_exporter": "python",
   "pygments_lexer": "ipython3",
   "version": "3.7.6"
  }
 },
 "nbformat": 4,
 "nbformat_minor": 4
}
